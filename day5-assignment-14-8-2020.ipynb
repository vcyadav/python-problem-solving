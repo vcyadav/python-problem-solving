{
 "cells": [
  {
   "cell_type": "markdown",
   "metadata": {},
   "source": [
    "# 1.\tcreate an array with the values from 0 .. 23. And Check its attributes.\n",
    "   * Then Reshape it as 2*12,3*8, 4*6,; 2*2*6, 2*4*3,3*4*2,.... and check its attributes.\n"
   ]
  },
  {
   "cell_type": "code",
   "execution_count": 12,
   "metadata": {},
   "outputs": [
    {
     "name": "stdout",
     "output_type": "stream",
     "text": [
      "[ 0  1  2  3  4  5  6  7  8  9 10 11 12 13 14 15 16 17 18 19 20 21 22 23]\n",
      "<class 'numpy.ndarray'>\n"
     ]
    }
   ],
   "source": [
    "import numpy as np\n",
    "ar=np.arange(0,24)\n",
    "print(ar)\n",
    "print(type(ar))"
   ]
  },
  {
   "cell_type": "markdown",
   "metadata": {},
   "source": [
    "* The reshape() function is used to give a new shape to an array without changing its data.\n",
    " *Array to be reshaped. The new shape should be compatible with the original shape. \n",
    " * If an integer, then the result will be a 1-D array of that length"
   ]
  },
  {
   "cell_type": "code",
   "execution_count": 32,
   "metadata": {},
   "outputs": [
    {
     "name": "stdout",
     "output_type": "stream",
     "text": [
      " 2X12 matrix form\n",
      "[[ 0  1  2  3  4  5  6  7  8  9 10 11]\n",
      " [12 13 14 15 16 17 18 19 20 21 22 23]]\n",
      "\n",
      " 3X8 matrix formn\n",
      "[[ 0  1  2  3  4  5  6  7]\n",
      " [ 8  9 10 11 12 13 14 15]\n",
      " [16 17 18 19 20 21 22 23]]\n",
      "\n",
      " 4X6 matrix formn\n",
      "[[ 0  1  2  3  4  5]\n",
      " [ 6  7  8  9 10 11]\n",
      " [12 13 14 15 16 17]\n",
      " [18 19 20 21 22 23]]\n",
      "\n",
      " 2X2X6 matrix formn\n",
      "[[[ 0  1  2  3  4  5]\n",
      "  [ 6  7  8  9 10 11]]\n",
      "\n",
      " [[12 13 14 15 16 17]\n",
      "  [18 19 20 21 22 23]]]\n",
      "\n",
      " 2X4X3 matrix formn\n",
      "[[[ 0  1  2]\n",
      "  [ 3  4  5]\n",
      "  [ 6  7  8]\n",
      "  [ 9 10 11]]\n",
      "\n",
      " [[12 13 14]\n",
      "  [15 16 17]\n",
      "  [18 19 20]\n",
      "  [21 22 23]]]\n",
      "\n",
      " 3X4X2 matrix formn\n",
      "[[[ 0  1]\n",
      "  [ 2  3]\n",
      "  [ 4  5]\n",
      "  [ 6  7]]\n",
      "\n",
      " [[ 8  9]\n",
      "  [10 11]\n",
      "  [12 13]\n",
      "  [14 15]]\n",
      "\n",
      " [[16 17]\n",
      "  [18 19]\n",
      "  [20 21]\n",
      "  [22 23]]]\n",
      "\n"
     ]
    }
   ],
   "source": [
    "ar2=ar.reshape(2,12)\n",
    "print(\" 2X12 matrix form\")\n",
    "print(ar2 ,end=\"\\n\\n\")\n",
    "print( \" 3X8 matrix formn\")\n",
    "print(ar.reshape(3,8),end=\"\\n\\n\")\n",
    "print( \" 4X6 matrix formn\")\n",
    "print(ar.reshape(4,6),end=\"\\n\\n\")\n",
    "print( \" 2X2X6 matrix formn\")\n",
    "print(ar.reshape(2,2,6),end=\"\\n\\n\")\n",
    "print( \" 2X4X3 matrix formn\")\n",
    "print(ar.reshape(2,4,3),end=\"\\n\\n\")\n",
    "print( \" 3X4X2 matrix formn\")\n",
    "print(ar.reshape(3,4,2),end=\"\\n\\n\")"
   ]
  },
  {
   "cell_type": "markdown",
   "metadata": {},
   "source": [
    "* 2.\tApply a user defined function using vectorize to get the maximum of two arrays\n",
    "* Example : Array1 =  [5,7,9,8,6,4,5]\n",
    "* \t     Array2 = [6,3,4,8,9,7,1]\n",
    "*    Output : [6,7,9,8,9,7,5]\n",
    "\n"
   ]
  },
  {
   "cell_type": "code",
   "execution_count": 36,
   "metadata": {},
   "outputs": [
    {
     "name": "stdout",
     "output_type": "stream",
     "text": [
      "array1\n",
      "[5 7 9 8 6 4 5]\n",
      "array2\n",
      "[6 3 4 8 9 7 1]\n",
      "maximum values from the two arrays\n",
      "[6 7 9 8 9 7 5]\n"
     ]
    }
   ],
   "source": [
    "l1=[5,7,9,8,6,4,5]\n",
    "l2=[6,3,4,8,9,7,1]\n",
    "array1=np.array(l1)\n",
    "array2=np.array(l2)\n",
    "array3=np.maximum(array1,array2)\n",
    "print(\"array1\",end='\\n')\n",
    "print(array1)\n",
    "print(\"array2\",end='\\n')\n",
    "print(array2)\n",
    "print(\"maximum values from the two arrays\",end='\\n')\n",
    "print(array3)\n"
   ]
  },
  {
   "cell_type": "markdown",
   "metadata": {},
   "source": [
    "* 3.\tWrite a Numpy program to generate six random integers between 10 and 30"
   ]
  },
  {
   "cell_type": "code",
   "execution_count": 39,
   "metadata": {},
   "outputs": [
    {
     "name": "stdout",
     "output_type": "stream",
     "text": [
      "[21, 27, 24, 11, 28, 12]\n"
     ]
    }
   ],
   "source": [
    "import random\n",
    "list=random.sample(range(10,30),6)\n",
    "print(list)"
   ]
  },
  {
   "cell_type": "markdown",
   "metadata": {},
   "source": [
    "* 4.\tGet all the items between 5 and 10 from Array A.\n",
    "* A = np.array([2,6,1,9,10,3,27])\n"
   ]
  },
  {
   "cell_type": "code",
   "execution_count": 47,
   "metadata": {},
   "outputs": [
    {
     "name": "stdout",
     "output_type": "stream",
     "text": [
      "the values between 5 and 10  from the array: [ 2  6  1  9 10  3 27]\n",
      "[6 1 9]\n",
      "the odd numbers from the array : [ 2  6  1  9 10  3 27]\n",
      "1 9 3 27 "
     ]
    }
   ],
   "source": [
    "a=np.array([2,6,1,9,10,3,27])\n",
    "array2 = np.take(a,[1,2,3])\n",
    "print(\"the values between 5 and 10  from the array:\", a)\n",
    "print(array2)\n",
    "print(\"the odd numbers from the array :\",a)\n",
    "for i in a:\n",
    "    if i%2 !=0:\n",
    "        print (i,end=\" \")\n",
    "        "
   ]
  },
  {
   "cell_type": "code",
   "execution_count": null,
   "metadata": {},
   "outputs": [],
   "source": []
  }
 ],
 "metadata": {
  "kernelspec": {
   "display_name": "Python 3",
   "language": "python",
   "name": "python3"
  },
  "language_info": {
   "codemirror_mode": {
    "name": "ipython",
    "version": 3
   },
   "file_extension": ".py",
   "mimetype": "text/x-python",
   "name": "python",
   "nbconvert_exporter": "python",
   "pygments_lexer": "ipython3",
   "version": "3.8.3"
  }
 },
 "nbformat": 4,
 "nbformat_minor": 4
}
